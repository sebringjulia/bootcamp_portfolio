{
 "cells": [
  {
   "cell_type": "code",
   "execution_count": 218,
   "metadata": {},
   "outputs": [],
   "source": [
    "# Dependencies\n",
    "from bs4 import BeautifulSoup as bs\n",
    "import pandas as pd\n",
    "from flask import Flask\n",
    "import requests\n",
    "\n",
    "from splinter import Browser\n"
   ]
  },
  {
   "cell_type": "code",
   "execution_count": 219,
   "metadata": {},
   "outputs": [],
   "source": [
    "# Splinter set-up\n",
    "\n",
    "executable_path = {'executable_path': 'chromedriver.exe'}\n",
    "browser = Browser('chrome', **executable_path, headless=False)"
   ]
  },
  {
   "cell_type": "code",
   "execution_count": 220,
   "metadata": {},
   "outputs": [],
   "source": [
    "url = 'https://mars.nasa.gov/news/'\n",
    "browser.visit(url)"
   ]
  },
  {
   "cell_type": "code",
   "execution_count": 10,
   "metadata": {},
   "outputs": [
    {
     "name": "stdout",
     "output_type": "stream",
     "text": [
      "TITLE: NASA's Mars 2020 Heads Into the Test Chamber\n",
      "\n",
      "In this time-lapse video taken at JPL, engineers move the Mars 2020 rover into a large vacuum chamber for testing in Mars-like environmental conditions.\n"
     ]
    }
   ],
   "source": [
    "# Parse HTML with Beautiful Soup\n",
    "html = browser.html\n",
    "\n",
    "soup = bs(html, 'html.parser')\n",
    "\n",
    "# Retrieve latest News Title and Paragraph Text\n",
    "title = soup.find('div', class_='content_title').text\n",
    "teaser_body = soup.find('div', class_='article_teaser_body').text\n",
    "\n",
    "print(\"TITLE: {}\\n\\n{}\".format(title, teaser_body))"
   ]
  },
  {
   "cell_type": "code",
   "execution_count": 170,
   "metadata": {},
   "outputs": [
    {
     "name": "stdout",
     "output_type": "stream",
     "text": [
      "[]\n"
     ]
    }
   ],
   "source": [
    "# Use splinter to retrieve the image url for the current Featured Mars Image\n",
    "\n",
    "#featured_image_url = soup.find('a', class_='button fancybox')\n",
    "#featured_image_url = soup.find_all('article')\n",
    "\n",
    "#image_scrape = soup.find_all('article', class_='carousel_item')\n",
    "\n",
    "#featured_image_url = soup.find_all('div', class_='carousel_items')\n",
    "#featured_image_url = soup.find_all('div', class_='carousel_container')\n",
    "\n",
    "\n",
    "image_scrape = soup.find_all('article', style=\"background-image: url('/spaceimages/images/wallpaper/PIA16613-1920x1200.jpg');\")\n",
    "#image_scrape = soup.find_all('a')\n",
    "\n",
    "print(image_scrape)\n",
    "\n",
    "# ultimate url\n",
    "#featured_image_url = 'https://www.jpl.nasa.gov/' + image_scrape"
   ]
  },
  {
   "cell_type": "code",
   "execution_count": 196,
   "metadata": {},
   "outputs": [
    {
     "data": {
      "text/plain": [
       "[<article class=\"post-7 page type-page status-publish has-post-thumbnail hentry\" id=\"post-7\"><header class=\"entry-header\"><h1 class=\"page-title\">Mars Facts</h1> </header><!-- .entry-header --><div class=\"entry-content clearfix\"><div class=\"black-background\"><figure><img alt=\"Mars\" class=\"aligncenter size-full wp-image-5696\" height=\"700\" loading=\"eager\" sizes=\"(max-width: 700px) 100vw, 700px\" src=\"https://space-facts.com/wp/wp-content/uploads/mars.jpg\" srcset=\"https://space-facts.com/wp-content/uploads/mars.jpg 700w, https://space-facts.com/wp-content/uploads/mars-150x150.jpg 150w, https://space-facts.com/wp-content/uploads/mars-300x300.jpg 300w, https://space-facts.com/wp-content/uploads/mars-180x180.jpg 180w\" width=\"700\"/></figure></div><p>Mars is the fourth planet from the <a href=\"https://space-facts.com/the-sun/\">Sun</a> and is the second smallest planet in the solar system. Named after the Roman god of war, Mars is also often described as the “Red Planet” due to its reddish appearance. Mars is a <a href=\"https://space-facts.com/terrestrial-planets/\">terrestrial planet</a> with a thin atmosphere composed primarily of carbon dioxide.</p><div class=\"widget widget_text profiles\" id=\"text-75\"><div class=\"textwidget\"><table class=\"tablepress tablepress-id-p-mars\" id=\"tablepress-p-mars\"><tbody><tr class=\"row-1 odd\"><td class=\"column-1\"><strong>Equatorial Diameter:</strong></td><td class=\"column-2\">6,792 km<br/></td></tr><tr class=\"row-2 even\"><td class=\"column-1\"><strong>Polar Diameter:</strong></td><td class=\"column-2\">6,752 km<br/></td></tr><tr class=\"row-3 odd\"><td class=\"column-1\"><strong>Mass:</strong></td><td class=\"column-2\">6.39 × 10^23 kg<br/> (0.11 Earths)</td></tr><tr class=\"row-4 even\"><td class=\"column-1\"><strong>Moons:</strong></td><td class=\"column-2\">2 (<a href=\"https://space-facts.com/moons/phobos/\">Phobos</a> &amp; <a href=\"https://space-facts.com/moons/deimos/\">Deimos</a>)</td></tr><tr class=\"row-5 odd\"><td class=\"column-1\"><strong>Orbit Distance:</strong></td><td class=\"column-2\">227,943,824 km<br/> (1.38 AU)</td></tr><tr class=\"row-6 even\"><td class=\"column-1\"><strong>Orbit Period:</strong></td><td class=\"column-2\">687 days (1.9 years)<br/></td></tr><tr class=\"row-7 odd\"><td class=\"column-1\"><strong>Surface Temperature: </strong></td><td class=\"column-2\">-87 to -5 °C</td></tr><tr class=\"row-8 even\"><td class=\"column-1\"><strong>First Record:</strong></td><td class=\"column-2\">2nd millennium BC</td></tr><tr class=\"row-9 odd\"><td class=\"column-1\"><strong>Recorded By:</strong></td><td class=\"column-2\">Egyptian astronomers</td></tr></tbody></table></div></div><div id=\"facts\"><h2>Facts about Mars</h2><ul><li><strong>Mars and Earth have approximately the same landmass.</strong><br/>Even though Mars has only 15% of the <a href=\"https://space-facts.com/earth/\">Earth’s</a> volume and just over 10% of the Earth’s mass, around two thirds of the Earth’s surface is covered in water. Martian surface gravity is only 37% of the Earth’s (meaning you could leap nearly three times higher on Mars).</li><li><strong>Mars is home to the tallest mountain in the solar system.</strong><br/><a href=\"https://space-facts.com/mars-features/#olympus\">Olympus Mons</a>, a shield volcano, is 21km high and 600km in diameter. Despite having formed over billions of years, evidence from volcanic lava flows is so recent many scientists believe it could still be active.</li><li><strong>Only 18 missions to Mars have been successful.</strong><br/>As of September 2014 there have been 40 <a href=\"https://space-facts.com/mars-missions/\">missions to Mars</a>, including orbiters, landers and rovers but not counting flybys. The most recent arrivals include the Mars Curiosity mission in 2012, the MAVEN mission, which arrived on September 22, 2014, followed by the Indian Space Research Organization’s MOM Mangalyaan orbiter, which arrived on September 24, 2014. The next missions to arrive will be the European Space Agency’s ExoMars mission, comprising an orbiter, lander, and a rover, followed by NASA’s InSight robotic lander mission, slated for launch in March 2016 and a planned arrival in September, 2016.</li><li><strong>Mars has the largest dust storms in the solar system.</strong><br/>They can last for months and cover the entire planet. The seasons are extreme because its elliptical (oval-shaped) orbital path around the Sun is more elongated than most other planets in the <a href=\"https://space-facts.com/solar-system/\">solar system</a>.</li><li><strong>On Mars the Sun appears about half the size as it does on Earth.</strong><br/>At the closest point to the Sun, the Martian southern hemisphere leans towards the Sun, causing a short, intensely hot summer, while the northern hemisphere endures a brief, cold winter: at its farthest point from the Sun, the Martian northern hemisphere leans towards the Sun, causing a long, mild summer, while the southern hemisphere endures a lengthy, cold winter.</li><li><strong>Pieces of Mars have fallen to Earth.</strong><br/>Scientists have found tiny traces of Martian atmosphere within meteorites violently ejected from Mars, then orbiting the solar system amongst galactic debris for millions of years, before crash landing on Earth. This allowed scientists to begin studying Mars prior to launching space missions.</li><li><strong>Mars takes its name from the Roman god of war.</strong><br/>The ancient Greeks called the planet Ares, after their god of war; the Romans then did likewise, associating the planet’s blood-red colour with Mars, their own god of war. Interestingly, other ancient cultures also focused on colour – to China’s astronomers it was ‘the fire star’, whilst Egyptian priests called on ‘Her Desher’, or ‘the red one’. The red colour Mars is known for is due to the rock and dust covering its surface being rich in iron.</li><li><strong>There are signs of liquid water on Mars.</strong><br/>For years Mars has been known to have water in the form of ice. The first signs of trickling water are dark stripes or stains on crater wall and cliffs seen in satellite images. Due to Mars’ atmosphere this water would have to be salty to prevent it from freezing or vaporising.</li><li><strong>One day Mars will have a ring.</strong><br/>In the next 20-40 million years Mars’ largest moon Phobos will be torn apart by gravitational forces leading to the creation of a ring that could last up to 100 million years.</li></ul></div><h2>Mars Diagrams</h2><div class=\"diagram-background\" id=\"diagrams\"><div class=\"wp-block-image\"><figure class=\"aligncenter\"><img alt=\"Mars size compared to Earth\" class=\"wp-image-6263\" loading=\"lazy\" sizes=\"(max-width: 760px) 100vw, 760px\" src=\"https://space-facts.com/wp/wp-content/uploads/mars-size.png\" srcset=\"https://space-facts.com/wp-content/uploads/mars-size.png 760w, https://space-facts.com/wp-content/uploads/mars-size-300x118.png 300w\"/><figcaption><span class=\"mars\">Mars</span> size compared to <span class=\"earth\">Earth</span></figcaption></figure></div><div class=\"wp-block-image\"><figure class=\"aligncenter\"><img alt=\"Mars distance from the Sun\" class=\"wp-image-6262\" loading=\"lazy\" sizes=\"(max-width: 760px) 100vw, 760px\" src=\"https://space-facts.com/wp/wp-content/uploads/mars-orbit.png\" srcset=\"https://space-facts.com/wp-content/uploads/mars-orbit.png 760w, https://space-facts.com/wp-content/uploads/mars-orbit-300x20.png 300w\"/><figcaption><span class=\"mars\">Mars</span> distance from the <span class=\"sun\">Sun</span> and orbital eccentricity</figcaption></figure></div><table class=\"tablepress tablepress-id-comp-mars blue-table\" id=\"tablepress-comp-mars\"><thead><tr class=\"row-1\"><th class=\"column-1\"><strong>Mars - Earth Comparison</strong></th><th class=\"column-2\"><span class=\"mars\">Mars</span></th><th class=\"column-3\"><span class=\"earth\">Earth</span></th></tr></thead><tbody><tr class=\"row-2\"><td class=\"column-1\">Diameter:</td><td class=\"column-2\"><span class=\"mars-s\">6,779 km</span></td><td class=\"column-3\"><span class=\"earth-s\">12,742 km</span></td></tr><tr class=\"row-3\"><td class=\"column-1\">Mass:</td><td class=\"column-2\"><span class=\"mars-s\">6.39 × 10^23 kg</span></td><td class=\"column-3\"><span class=\"earth-s\">5.97 × 10^24 kg</span></td></tr><tr class=\"row-4\"><td class=\"column-1\">Moons:</td><td class=\"column-2\"><span class=\"mars-s\">2</span></td><td class=\"column-3\"><span class=\"earth-s\">1</span></td></tr><tr class=\"row-5\"><td class=\"column-1\">Distance from Sun:</td><td class=\"column-2\"><span class=\"mars-s\">227,943,824 km</span></td><td class=\"column-3\"><span class=\"earth-s\">149,598,262 km</span></td></tr><tr class=\"row-6\"><td class=\"column-1\">Length of Year:</td><td class=\"column-2\"><span class=\"mars-s\">687 Earth days</span></td><td class=\"column-3\"><span class=\"earth-s\">365.24 days</span></td></tr><tr class=\"row-7\"><td class=\"column-1\">Temperature:</td><td class=\"column-2\"><span class=\"mars-s\">-153 to 20 °C</span></td><td class=\"column-3\"><span class=\"earth-s\">-88 to 58°C</span></td></tr></tbody></table></div><p class=\"sources\"><strong>Sources:</strong><br/>Image – astrogeology.usgs.gov/maps/mars-viking-hemisphere-point-perspectives<br/></p><div class=\"sharedaddy sd-sharing-enabled\"><div class=\"robots-nocontent sd-block sd-social sd-social-icon sd-sharing\"><div class=\"sd-content\"><ul><li class=\"share-twitter\"><a class=\"share-twitter sd-button share-icon no-text\" data-shared=\"sharing-twitter-7\" href=\"https://space-facts.com/mars/?share=twitter&amp;nb=1\" rel=\"nofollow noopener noreferrer\" target=\"_blank\" title=\"Click to share on Twitter\"><span></span><span class=\"sharing-screen-reader-text\">Click to share on Twitter (Opens in new window)</span></a></li><li class=\"share-facebook\"><a class=\"share-facebook sd-button share-icon no-text\" data-shared=\"sharing-facebook-7\" href=\"https://space-facts.com/mars/?share=facebook&amp;nb=1\" rel=\"nofollow noopener noreferrer\" target=\"_blank\" title=\"Click to share on Facebook\"><span></span><span class=\"sharing-screen-reader-text\">Click to share on Facebook (Opens in new window)</span></a></li><li class=\"share-pinterest\"><a class=\"share-pinterest sd-button share-icon no-text\" data-shared=\"sharing-pinterest-7\" href=\"https://space-facts.com/mars/?share=pinterest&amp;nb=1\" rel=\"nofollow noopener noreferrer\" target=\"_blank\" title=\"Click to share on Pinterest\"><span><span class=\"share-count\">96</span></span><span class=\"sharing-screen-reader-text\">Click to share on Pinterest (Opens in new window)<span class=\"share-count\">96</span></span></a></li><li class=\"share-reddit\"><a class=\"share-reddit sd-button share-icon no-text\" data-shared=\"\" href=\"https://space-facts.com/mars/?share=reddit&amp;nb=1\" rel=\"nofollow noopener noreferrer\" target=\"_blank\" title=\"Click to share on Reddit\"><span></span><span class=\"sharing-screen-reader-text\">Click to share on Reddit (Opens in new window)</span></a></li><li class=\"share-tumblr\"><a class=\"share-tumblr sd-button share-icon no-text\" data-shared=\"\" href=\"https://space-facts.com/mars/?share=tumblr&amp;nb=1\" rel=\"nofollow noopener noreferrer\" target=\"_blank\" title=\"Click to share on Tumblr\"><span></span><span class=\"sharing-screen-reader-text\">Click to share on Tumblr (Opens in new window)</span></a></li><li class=\"share-end\"></li></ul></div></div></div></div><!-- .entry-content --></article>]"
      ]
     },
     "execution_count": 196,
     "metadata": {},
     "output_type": "execute_result"
    }
   ],
   "source": [
    "#articles = soup.find_all('article', style=True)\n",
    "#for article in articles:\n",
    "#    print(article)\n",
    "\n",
    "test = soup.find_all('article')\n",
    "\n",
    "test"
   ]
  },
  {
   "cell_type": "code",
   "execution_count": null,
   "metadata": {},
   "outputs": [],
   "source": [
    "relative_image_path = soup.find_all('img')[2][\"src\"]\n",
    "sloth_img = url + relative_image_path\n",
    "\n"
   ]
  },
  {
   "cell_type": "code",
   "execution_count": null,
   "metadata": {},
   "outputs": [],
   "source": []
  },
  {
   "cell_type": "code",
   "execution_count": 207,
   "metadata": {},
   "outputs": [],
   "source": [
    "# Scrape facts from table using pandas\n",
    "\n",
    "url = 'https://space-facts.com/mars/'\n",
    "tables = pd.read_html(url)"
   ]
  },
  {
   "cell_type": "code",
   "execution_count": 215,
   "metadata": {},
   "outputs": [
    {
     "data": {
      "text/plain": [
       "[                      0                              1\n",
       " 0  Equatorial Diameter:                       6,792 km\n",
       " 1       Polar Diameter:                       6,752 km\n",
       " 2                 Mass:  6.39 × 10^23 kg (0.11 Earths)\n",
       " 3                Moons:            2 (Phobos & Deimos)\n",
       " 4       Orbit Distance:       227,943,824 km (1.38 AU)\n",
       " 5         Orbit Period:           687 days (1.9 years)\n",
       " 6  Surface Temperature:                   -87 to -5 °C\n",
       " 7         First Record:              2nd millennium BC\n",
       " 8          Recorded By:           Egyptian astronomers,\n",
       "   Mars - Earth Comparison             Mars            Earth\n",
       " 0               Diameter:         6,779 km        12,742 km\n",
       " 1                   Mass:  6.39 × 10^23 kg  5.97 × 10^24 kg\n",
       " 2                  Moons:                2                1\n",
       " 3      Distance from Sun:   227,943,824 km   149,598,262 km\n",
       " 4         Length of Year:   687 Earth days      365.24 days\n",
       " 5            Temperature:    -153 to 20 °C      -88 to 58°C,\n",
       "                       0                              1\n",
       " 0  Equatorial Diameter:                       6,792 km\n",
       " 1       Polar Diameter:                       6,752 km\n",
       " 2                 Mass:  6.39 × 10^23 kg (0.11 Earths)\n",
       " 3                Moons:            2 (Phobos & Deimos)\n",
       " 4       Orbit Distance:       227,943,824 km (1.38 AU)\n",
       " 5         Orbit Period:           687 days (1.9 years)\n",
       " 6  Surface Temperature:                   -87 to -5 °C\n",
       " 7         First Record:              2nd millennium BC\n",
       " 8          Recorded By:           Egyptian astronomers]"
      ]
     },
     "execution_count": 215,
     "metadata": {},
     "output_type": "execute_result"
    }
   ],
   "source": [
    "tables"
   ]
  },
  {
   "cell_type": "code",
   "execution_count": 214,
   "metadata": {},
   "outputs": [],
   "source": [
    "# Index to table with needed info\n",
    "facts = tables[0]"
   ]
  },
  {
   "cell_type": "code",
   "execution_count": null,
   "metadata": {},
   "outputs": [],
   "source": [
    "html_table = facts.to_html('table.html')"
   ]
  },
  {
   "cell_type": "code",
   "execution_count": 223,
   "metadata": {},
   "outputs": [],
   "source": [
    "url = 'https://astrogeology.usgs.gov/search/results?q=hemisphere+enhanced&k1=target&v1=Mars'\n",
    "\n",
    "browser.visit(url)\n",
    "html = browser.html\n",
    "soup = bs(html, 'html.parser')"
   ]
  },
  {
   "cell_type": "code",
   "execution_count": 226,
   "metadata": {},
   "outputs": [
    {
     "data": {
      "text/plain": [
       "'<!DOCTYPE html>\\n<html lang=\"en\" xmlns=\"http://www.w3.org/1999/xhtml\">\\n <head>\\n  <link href=\"//ajax.googleapis.com/ajax/libs/jqueryui/1.11.3/themes/smoothness/jquery-ui.css\" rel=\"stylesheet\" type=\"text/css\"/>\\n  <title>\\n   Astropedia Search Results | USGS Astrogeology Science Center\\n  </title>\\n  <meta content=\"USGS Astrogeology Science Center Astropedia search results.\" name=\"description\"/>\\n  <meta content=\"USGS,Astrogeology Science Center,Cartography,Geology,Space,Geological Survey,Mapping\" name=\"keywords\"/>\\n  <meta content=\"IE=edge\" http-equiv=\"X-UA-Compatible\"/>\\n  <meta content=\"text/html; charset=utf-8\" http-equiv=\"Content-Type\"/>\\n  <meta content=\"width=device-width, initial-scale=1, maximum-scale=1\" name=\"viewport\"/>\\n  <meta content=\"x61hXXVj7wtfBSNOPnTftajMsZ5yB2W-qRoyr7GtOKM\" name=\"google-site-verification\"/>\\n  <!--<link rel=\"stylesheet\" href=\"http://fonts.googleapis.com/css?family=Open+Sans:400italic,400,bold\"/>-->\\n  <link href=\"/css/main.css\" media=\"screen\" rel=\"stylesheet\"/>\\n  <link href=\"/css/print.css\" media=\"print\" rel=\"stylesheet\"/>\\n  <!--[if lt IE 9]>\\n\\t\\t\\t<script src=\"http://html5shiv.googlecode.com/svn/trunk/html5.js\"></script>\\n\\t\\t\\t<script src=\"/js/respond.min.js\"></script>\\n\\t\\t\\t<link rel=\"stylesheet\" type=\"text/css\" href=\"/css/ie.css\"/>\\n                        <script>\\n                          document.createElement(\\'header\\');\\n                          document.createElement(\\'nav\\');\\n                          document.createElement(\\'section\\');\\n                          document.createElement(\\'article\\');\\n                          document.createElement(\\'aside\\');\\n                          document.createElement(\\'footer\\');\\n                          document.createElement(\\'hgroup\\');\\n                        </script>\\n                  <![endif]-->\\n  <link href=\"/favicon.ico\" rel=\"icon\" type=\"image/x-ico\"/>\\n </head>\\n <body id=\"results\">\\n  <header>\\n   <!--\\n\\t\\t\\t<h1>Astrogeology Science Center</h1>\\n-->\\n   <a href=\"https://www.usgs.gov/centers/astrogeo-sc\" style=\"float:right;margin-top:10px;\">\\n    <img alt=\"USGS: Science for a Changing World\" class=\"logo\" height=\"60\" src=\"/images/usgs_logo_main_2x.png\"/>\\n   </a>\\n   <a href=\"https://nasa.gov\" style=\"float:right;margin-top:5px;margin-right:20px;\">\\n    <img alt=\"NASA\" class=\"logo\" height=\"65\" src=\"/images/logos/nasa-logo-web-med.png\"/>\\n   </a>\\n   <a href=\"https://pds-imaging.jpl.nasa.gov/\" style=\"float:right;margin-top:5px;margin-right: 10px;\">\\n    <img alt=\"PDS Cartography and Imaging Science Node\" class=\"logo\" height=\"65\" src=\"/images/pds_logo-invisible-web.png\"/>\\n   </a>\\n  </header>\\n  <div class=\"wrapper\">\\n   <!--\\n\\t\\t\\t<nav>\\n\\t\\t\\t\\t<a id=\"nav-toggle\" href=\"#\" title=\"Navigation Menu\">Menu</a>\\n<ul class=\"dropdown dropdown-horizontal\" id=\"yw0\">\\n<li><a href=\"/\">Home</a></li>\\n<li><a href=\"/about\">About</a>\\n<ul>\\n<li><a href=\"/about/careers\">Careers</a></li>\\n<li><a href=\"/contact\">Contact</a></li>\\n<li><a href=\"/about/events\">Events</a></li>\\n<li><a href=\"/site/glossary\">Glossary</a></li>\\n<li><a href=\"/about/mission\">Mission</a></li>\\n<li><a href=\"/news\">News</a></li>\\n<li><a href=\"/people\">People</a></li>\\n<li><a href=\"/about/using-our-images\">Using Our Images</a></li>\\n<li><a href=\"/about/visitors\">Visitors</a></li>\\n</ul>\\n</li>\\n<li><a href=\"/facilities\">Labs / Facilities</a>\\n<ul>\\n<li><a href=\"/facilities/flynn-creek-crater-sample-collection\">Flynn Creek Crater Sample Collection</a></li>\\n<li><a href=\"http://www.moon-cal.org\">Lunar Calibration Project</a></li>\\n<li><a href=\"/facilities/meteor-crater-sample-collection\">Meteor Crater Sample Collection</a></li>\\n<li><a href=\"/facilities/mrctr\">MRCTR GIS Lab</a></li>\\n<li><a href=\"/facilities/cartography-and-imaging-sciences-node-of-nasa-planetary-data-system\">PDS Cartography and Imaging Sciences Node</a></li>\\n<li><a href=\"/pds/annex\">PDS IMG Annex</a></li>\\n<li><a href=\"/facilities/photogrammetry-guest-facility\">Photogrammetry Guest Facility</a></li>\\n<li><a href=\"/rpif\">Regional Planetary Information Facility (RPIF)</a></li>\\n</ul>\\n</li>\\n<li><a href=\"/maps\">Maps / Products</a>\\n<ul>\\n<li><a href=\"/search\">Product Search</a></li>\\n<li><a href=\"http://planetarynames.wr.usgs.gov\">Gazetteer of Planetary Nomenclature</a></li>\\n<li><a href=\"http://planetarymapping.wr.usgs.gov\">Geologic Mapping Program</a></li>\\n<li><a href=\"http://pilot.wr.usgs.gov\">Planetary Image Locator Tool (PILOT)</a></li>\\n<li><a href=\"/search/planetary-index\">Planetary Map Index</a></li>\\n</ul>\\n</li>\\n<li><a href=\"/geology\">Missions / Research</a>\\n<ul>\\n<li><a href=\"/geology/mars-dunes\">Mars Dunes</a></li>\\n<li><a href=\"/geology/mars-ice\">Mars Ice</a></li>\\n<li><a href=\"/missions\">Mission Support</a></li>\\n<li><a href=\"/solar-system\">Solar System</a></li>\\n<li><a href=\"/groups\">Working Groups</a></li>\\n</ul>\\n</li>\\n<li><a href=\"/tools\">Tools</a>\\n<ul>\\n<li><a href=\"http://planetarynames.wr.usgs.gov\">Gazetteer of Planetary Nomenclature</a></li>\\n<li><a href=\"http://isis.astrogeology.usgs.gov\">Integrated Software for Imagers and Spectrometers (ISIS)</a></li>\\n<li><a href=\"http://astrogeology.usgs.gov/tools/map-a-planet-2\">Map a Planet 2</a></li>\\n<li><a href=\"http://pilot.wr.usgs.gov\">Planetary Image Locator Tool (PILOT)</a></li>\\n<li><a href=\"http://astrocloud.wr.usgs.gov/\">Projection on the Web (POW)</a></li>\\n</ul>\\n</li>\\n</ul>\\t\\t\\t\\t<form id=\"search\" class=\"search\" action=\"/search/results\" method=\"get\">\\n\\t\\t\\t\\t\\t<input type=\"submit\" value=\"\" title=\"Search Astropedia\"/>\\n\\t\\t\\t\\t\\t<input type=\"text\" placeholder=\"Search\" name=\"q\"/>\\n\\t\\t\\t\\t</form>\\n\\t\\t\\t</nav>\\n-->\\n   <div class=\"container\">\\n    <div class=\"widget block bar\">\\n     <a href=\"/search\" style=\"float:right;text-decoration:none;\">\\n      <img alt=\"Astropedia\" src=\"/images/astropedia/astropedia-logo-main.png\" style=\"width:200px;border:none;float:right;\"/>\\n      <div style=\"clear:both;font-size:.8em;float:right;color:#888;\">\\n       Lunar and Planetary Cartographic Catalog\\n      </div>\\n     </a>\\n     <div style=\"float:left;height:60px;\">\\n     </div>\\n    </div>\\n    <form action=\"/search/results\" class=\"bar widget block\" id=\"search-bar\">\\n     <input name=\"q\" type=\"hidden\" value=\"hemisphere-enhanced\"/>\\n     <input name=\"target\" type=\"hidden\" value=\"Mars\"/>\\n     <input name=\"__ncforminfo\" type=\"hidden\" value=\"gy1N2P5clde-mpvVFxjOXzJIlfA98FNH3A09HO9Gf3ocJaTi19WWRgS-jtagdQGm1O4oaVXyACa5JOF8a98gGxuKIhnWx7gze0mf5PI-6XktV8UsFB3LXQ==\"/>\\n    </form>\\n    <div class=\"full-content\">\\n     <section class=\"block\" id=\"results-accordian\">\\n      <div class=\"result-list\" data-section=\"product\" id=\"product-section\">\\n       <div class=\"accordian\">\\n        <h2>\\n         Products\\n        </h2>\\n        <span class=\"count\">\\n         4 Results\\n        </span>\\n        <span class=\"collapse\">\\n         Collapse\\n        </span>\\n       </div>\\n       <div class=\"collapsible results\">\\n        <div class=\"item\">\\n         <a class=\"itemLink product-item\" href=\"/search/map/Mars/Viking/cerberus_enhanced\">\\n          <img alt=\"Cerberus Hemisphere Enhanced thumbnail\" class=\"thumb\" src=\"/cache/images/dfaf3849e74bf973b59eb50dab52b583_cerberus_enhanced.tif_thumb.png\"/>\\n         </a>\\n         <div class=\"description\">\\n          <a class=\"itemLink product-item\" href=\"/search/map/Mars/Viking/cerberus_enhanced\">\\n           <h3>\\n            Cerberus Hemisphere Enhanced\\n           </h3>\\n          </a>\\n          <span class=\"subtitle\" style=\"float:left\">\\n           image/tiff 21 MB\\n          </span>\\n          <span class=\"pubDate\" style=\"float:right\">\\n          </span>\\n          <br/>\\n          <p>\\n           Mosaic of the Cerberus hemisphere of Mars projected into point perspective, a view similar to that which one would see from a spacecraft. This mosaic is composed of 104 Viking Orbiter images acquired…\\n          </p>\\n         </div>\\n         <!-- end description -->\\n        </div>\\n        <div class=\"item\">\\n         <a class=\"itemLink product-item\" href=\"/search/map/Mars/Viking/schiaparelli_enhanced\">\\n          <img alt=\"Schiaparelli Hemisphere Enhanced thumbnail\" class=\"thumb\" src=\"/cache/images/7677c0a006b83871b5a2f66985ab5857_schiaparelli_enhanced.tif_thumb.png\"/>\\n         </a>\\n         <div class=\"description\">\\n          <a class=\"itemLink product-item\" href=\"/search/map/Mars/Viking/schiaparelli_enhanced\">\\n           <h3>\\n            Schiaparelli Hemisphere Enhanced\\n           </h3>\\n          </a>\\n          <span class=\"subtitle\" style=\"float:left\">\\n           image/tiff 35 MB\\n          </span>\\n          <span class=\"pubDate\" style=\"float:right\">\\n          </span>\\n          <br/>\\n          <p>\\n           Mosaic of the Schiaparelli hemisphere of Mars projected into point perspective, a view similar to that which one would see from a spacecraft. The images were acquired in 1980 during early northern…\\n          </p>\\n         </div>\\n         <!-- end description -->\\n        </div>\\n        <div class=\"item\">\\n         <a class=\"itemLink product-item\" href=\"/search/map/Mars/Viking/syrtis_major_enhanced\">\\n          <img alt=\"Syrtis Major Hemisphere Enhanced thumbnail\" class=\"thumb\" src=\"/cache/images/aae41197e40d6d4f3ea557f8cfe51d15_syrtis_major_enhanced.tif_thumb.png\"/>\\n         </a>\\n         <div class=\"description\">\\n          <a class=\"itemLink product-item\" href=\"/search/map/Mars/Viking/syrtis_major_enhanced\">\\n           <h3>\\n            Syrtis Major Hemisphere Enhanced\\n           </h3>\\n          </a>\\n          <span class=\"subtitle\" style=\"float:left\">\\n           image/tiff 25 MB\\n          </span>\\n          <span class=\"pubDate\" style=\"float:right\">\\n          </span>\\n          <br/>\\n          <p>\\n           Mosaic of the Syrtis Major hemisphere of Mars projected into point perspective, a view similar to that which one would see from a spacecraft. This mosaic is composed of about 100 red and violet…\\n          </p>\\n         </div>\\n         <!-- end description -->\\n        </div>\\n        <div class=\"item\">\\n         <a class=\"itemLink product-item\" href=\"/search/map/Mars/Viking/valles_marineris_enhanced\">\\n          <img alt=\"Valles Marineris Hemisphere Enhanced thumbnail\" class=\"thumb\" src=\"/cache/images/04085d99ec3713883a9a57f42be9c725_valles_marineris_enhanced.tif_thumb.png\"/>\\n         </a>\\n         <div class=\"description\">\\n          <a class=\"itemLink product-item\" href=\"/search/map/Mars/Viking/valles_marineris_enhanced\">\\n           <h3>\\n            Valles Marineris Hemisphere Enhanced\\n           </h3>\\n          </a>\\n          <span class=\"subtitle\" style=\"float:left\">\\n           image/tiff 27 MB\\n          </span>\\n          <span class=\"pubDate\" style=\"float:right\">\\n          </span>\\n          <br/>\\n          <p>\\n           Mosaic of the Valles Marineris hemisphere of Mars projected into point perspective, a view similar to that which one would see from a spacecraft. The distance is 2500 kilometers from the surface of…\\n          </p>\\n         </div>\\n         <!-- end description -->\\n        </div>\\n        <script async=\"\" src=\"https://ssl.google-analytics.com/ga.js\" type=\"text/javascript\">\\n        </script>\\n        <script>\\n         addBases=[];;if(typeof resetLayerSwitcher===\"function\"){resetLayerSwitcher(false)};var productTotal = 4;\\n        </script>\\n       </div>\\n       <!-- end this-section -->\\n      </div>\\n     </section>\\n    </div>\\n   </div>\\n   <div class=\"icons projects black scroll-wrapper\">\\n    <div class=\"scroll\">\\n     <a class=\"icon\" href=\"http://isis.astrogeology.usgs.gov\" title=\"Integrated Software for Imagers and Spectrometers\">\\n      <img alt=\"ISIS Logo\" height=\"112\" src=\"/images/logos/isis_2x.jpg\" width=\"112\"/>\\n      <span class=\"label\">\\n       ISIS\\n      </span>\\n     </a>\\n     <a class=\"icon\" href=\"http://planetarynames.wr.usgs.gov\" title=\"Gazetteer of Planetary Nomenclature\">\\n      <img alt=\"Nomenclature Logo\" height=\"112\" src=\"/images/logos/nomenclature_2x.jpg\" width=\"112\"/>\\n      <span class=\"label\">\\n       Planetary Nomenclature\\n      </span>\\n     </a>\\n     <a class=\"icon\" href=\"https://astrogeology.usgs.gov/tools/map-a-planet-2\" title=\"Map a Planet 2\">\\n      <img alt=\"Map-a-Planet Logo\" height=\"112\" src=\"/images/logos/map_a_planet_2x.jpg\" width=\"112\"/>\\n      <span class=\"label\">\\n       Map a Planet 2\\n      </span>\\n     </a>\\n     <a class=\"icon\" href=\"https://www.usgs.gov/centers/astrogeo-sc/science/cartography-and-imaging-sciences-node-nasa-planetary-data-system\" title=\"PDS Cartography and Imaging Science Node\">\\n      <img alt=\"PDS Logo\" height=\"112\" src=\"/images/pds_logo-black-web.png\"/>\\n      <span class=\"label\">\\n       PDS Cartography and Imaging Science Node\\n      </span>\\n     </a>\\n     <!--\\n\\t\\t\\t\\t\\t\\t<a title=\"Astropedia Search\" href=\"/search\" class=\"icon\">\\n\\t\\t\\t\\t\\t\\t\\t<img alt=\"Astropedia Logo\" height=\"112\" width=\"112\" src=\"/images/logos/astropedia_2x.jpg\"/>\\n\\t\\t\\t\\t\\t\\t\\t<span class=\"label\">Astropedia</span>\\n\\t\\t\\t\\t\\t\\t</a>\\n-->\\n     <a class=\"icon\" href=\"https://www.usgs.gov/centers/astrogeo-sc/science/regional-planetary-image-facility-rpif\" title=\"Regional Planetary Image Facility\">\\n      <img alt=\"RPIF Logo\" height=\"112\" src=\"/images/logos/rpif_2x.jpg\" width=\"112\"/>\\n      <span class=\"label\">\\n       RPIF\\n      </span>\\n     </a>\\n     <a class=\"icon\" href=\"https://www.usgs.gov/centers/astrogeo-sc/science/usgsnasa-planetary-photogrammetry-guest-facility\" title=\"Photogrammetry Guest Facility\">\\n      <img alt=\"Photogrammetry Guest Faciltiy Logo\" height=\"112\" src=\"/images/logos/photogrammetry_2x.jpg\" width=\"112\"/>\\n      <span class=\"label\">\\n       Photogrammetry Guest Facility\\n      </span>\\n     </a>\\n     <a class=\"icon\" href=\"http://pilot.wr.usgs.gov\" title=\"Planetary Image Locator Tool\">\\n      <img alt=\"Pilot Logo\" height=\"112\" src=\"/images/logos/pilot_2x.jpg\" width=\"112\"/>\\n      <span class=\"label\">\\n       PILOT\\n      </span>\\n     </a>\\n     <a class=\"icon\" href=\"https://www.usgs.gov/centers/astrogeo-sc/science/mrctr-gis-lab\" title=\"Mapping, Remote-sensing, Cartography, Technology and Research GIS Lab\">\\n      <img alt=\"MRCTR GIS Lab Logo\" height=\"112\" src=\"/images/logos/mrctr_man_2x.png\" width=\"112\"/>\\n      <span class=\"label\">\\n       MRCTR GIS Lab\\n      </span>\\n     </a>\\n    </div>\\n   </div>\\n   <footer>\\n    <div class=\"left\">\\n     <a href=\"http://astrogeology.usgs.gov/search\">\\n      Search\\n     </a>\\n     |\\n     <a href=\"http://astrogeology.usgs.gov/maps/about\">\\n      About\\n     </a>\\n     |\\n     <a href=\"http://astrogeology.usgs.gov/maps/contact\">\\n      Contact\\n     </a>\\n    </div>\\n    <div class=\"right\">\\n     <a href=\"https://www.usgs.gov/centers/astrogeo-sc\">\\n      USGS Astrogeology Science Center\\n     </a>\\n    </div>\\n   </footer>\\n  </div>\\n  <!--\\n\\t\\t<div class=\"credit\">\\n\\t\\t\\t<small>Background Credits: NASA/USGS</small>\\n\\t\\t</div>\\n-->\\n  <div class=\"page-background\" style=\"\\n\\t\\t\\tbackground:url(\\'/images/backgrounds/mars.jpg\\');\\n\\t\\t\\tfilter:progid:DXImageTransform.Microsoft.AlphaImageLoader(\\n\\t\\t\\t\\tsrc=\\'/images/backgrounds/mars.jpg\\', sizingMethod=\\'scale\\');\\n\\t\\t\">\\n  </div>\\n  <script type=\"text/javascript\">\\n   var baseUrl = \"\";\\n\\n\\nvar _gaq = _gaq || [];_gaq.push([\\'_setAccount\\', \\'UA-27613186-1\\']);_gaq.push([\\'_trackPageview\\']);(function() { var ga = document.createElement(\\'script\\'); ga.type = \\'text/javascript\\'; ga.async = true;ga.src = (\\'https:\\' == document.location.protocol ? \\'https://ssl\\' : \\'http://www\\') + \\'.google-analytics.com/ga.js\\'; var s = document.getElementsByTagName(\\'script\\')[0]; s.parentNode.insertBefore(ga, s);})();\\n  </script>\\n  <script src=\"https://ajax.googleapis.com/ajax/libs/jquery/1.11.1/jquery.min.js\" type=\"text/javascript\">\\n  </script>\\n  <script src=\"//ajax.googleapis.com/ajax/libs/jqueryui/1.11.3/jquery-ui.min.js\" type=\"text/javascript\">\\n  </script>\\n  <script src=\"/js/general.js\" type=\"text/javascript\">\\n  </script>\\n </body>\\n</html>'"
      ]
     },
     "execution_count": 226,
     "metadata": {},
     "output_type": "execute_result"
    }
   ],
   "source": [
    "soup.prettify()"
   ]
  },
  {
   "cell_type": "code",
   "execution_count": null,
   "metadata": {},
   "outputs": [],
   "source": [
    "# Scrape\n",
    "\n",
    "# Iterate through all pages\n",
    "for x in range(50):\n",
    "    # HTML object\n",
    "    html = browser.html\n",
    "    # Parse HTML with Beautiful Soup\n",
    "    soup = BeautifulSoup(html, 'html.parser')\n",
    "    # Retrieve all elements that contain news regarding mission to Mars\n",
    "    articles = soup.find_all('article', class_='product_pod')\n",
    "\n",
    "    # Iterate through each article\n",
    "    for article in articles:\n",
    "        # Use Beautiful Soup's find() method to navigate and retrieve attributes\n",
    "        h3 = article.find('h3')\n",
    "        link = h3.find('a')\n",
    "        href = link['href']\n",
    "        title = link['title']\n",
    "        print('-----------')\n",
    "        print(title)\n",
    "        print('http://books.toscrape.com/' + href)\n",
    "\n",
    "    # Click the 'Next' button on each page\n",
    "    try:\n",
    "        browser.click_link_by_partial_text('next')\n",
    "          \n",
    "    except:\n",
    "        print(\"Scraping Complete\")"
   ]
  }
 ],
 "metadata": {
  "kernelspec": {
   "display_name": "Python 3",
   "language": "python",
   "name": "python3"
  },
  "language_info": {
   "codemirror_mode": {
    "name": "ipython",
    "version": 3
   },
   "file_extension": ".py",
   "mimetype": "text/x-python",
   "name": "python",
   "nbconvert_exporter": "python",
   "pygments_lexer": "ipython3",
   "version": "3.7.3"
  }
 },
 "nbformat": 4,
 "nbformat_minor": 2
}
