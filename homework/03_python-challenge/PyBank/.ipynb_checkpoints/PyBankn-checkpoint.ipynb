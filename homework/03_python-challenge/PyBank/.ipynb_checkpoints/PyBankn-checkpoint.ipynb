{
 "cells": [
  {
   "cell_type": "code",
   "execution_count": 1,
   "metadata": {},
   "outputs": [],
   "source": [
    "# Dependencies\n",
    "import os\n",
    "import csv"
   ]
  },
  {
   "cell_type": "code",
   "execution_count": 2,
   "metadata": {},
   "outputs": [],
   "source": [
    "# Store file path\n",
    "csv_path = os.path.join(\"budget_data.csv\")"
   ]
  },
  {
   "cell_type": "code",
   "execution_count": 3,
   "metadata": {},
   "outputs": [],
   "source": [
    "# Create separate lists\n",
    "Date = []\n",
    "Profit_Losses = []\n",
    "Increase_Decrease = []"
   ]
  },
  {
   "cell_type": "code",
   "execution_count": 4,
   "metadata": {},
   "outputs": [],
   "source": [
    "# Open and read csv\n",
    "with open(csv_path, newline =\"\") as csv_file:\n",
    "    csv_reader2 = csv.reader(csv_file, delimiter =\",\")\n",
    "    \n",
    "    csv_header2 = next(csv_reader2)\n",
    "    \n",
    "    # for Loop to assign values to Date and Profit_Losses lists\n",
    "    for row in csv_reader2:\n",
    "                \n",
    "        Date.append(row[0])\n",
    "        Profit_Losses.append(row[1])"
   ]
  },
  {
   "cell_type": "code",
   "execution_count": 5,
   "metadata": {},
   "outputs": [],
   "source": [
    "# Assign value to Increase_Decrease list\n",
    "Increase_Decrease = Profit_Losses\n",
    "\n",
    "# Declare index counters\n",
    "count1 = 0\n",
    "count2 = 1\n",
    "\n",
    "# Declare greatest profit and loss variables\n",
    "high = 0\n",
    "low = 0\n",
    "\n",
    "# Declare variables to track index counters for greatest profit and loss dates\n",
    "high_index = 0\n",
    "low_index = 0\n",
    "\n",
    "# While the loop interates to the last pair of profit/loss values...\n",
    "while count2 <= len(Increase_Decrease)-1:\n",
    "    \n",
    "    # if the difference of the two sequential profit/loss values is greater than the high variable...\n",
    "    if float(Increase_Decrease[count2])-float(Increase_Decrease[count1]) > high:\n",
    "        \n",
    "        # then reassign the high variable to that greater difference to find the greatest profit in the data...\n",
    "        high = float(Increase_Decrease[count2])-float(Increase_Decrease[count1])\n",
    "        \n",
    "        # and reassign the high_index variable to track the index count so can find the date of greatest profit...\n",
    "        high_index = count2\n",
    "        \n",
    "    # if the difference of the two sequential profit/loss values is lower than the low variable...\n",
    "    if float(Increase_Decrease[count2])-float(Increase_Decrease[count1]) < low:\n",
    "        \n",
    "        # then reassign the low variable to that lower difference to find the greatest loss in the data...\n",
    "        low = float(Increase_Decrease[count2])-float(Increase_Decrease[count1])\n",
    "        \n",
    "        # and reassign the low_index variable to track the index count to find the date of the greatest loss\n",
    "        low_index = count2\n",
    "    \n",
    "    # reassign counters to increment by 1 for next comparisons\n",
    "    count1 = count2\n",
    "    count2 += 1"
   ]
  },
  {
   "cell_type": "code",
   "execution_count": 6,
   "metadata": {},
   "outputs": [],
   "source": [
    "# Declare variable to find overall net profit/loss\n",
    "sum = 0\n",
    "\n",
    "# for Loop to calculate sum variable\n",
    "for i in Profit_Losses:\n",
    "    sum += float(i)\n",
    "\n",
    "# Declare and assign variable for average/mean\n",
    "mean = sum/len(Profit_Losses)"
   ]
  },
  {
   "cell_type": "code",
   "execution_count": 7,
   "metadata": {},
   "outputs": [],
   "source": [
    "# Copy lists to zip together\n",
    "#Date2 = Date\n",
    "#Profit_Losses2 = Profit_Losses"
   ]
  },
  {
   "cell_type": "code",
   "execution_count": 8,
   "metadata": {},
   "outputs": [],
   "source": [
    "# Create dictionary of copied Date and Profit_Losses lists zipped together\n",
    "#data = dict(zip(Date2, Profit_Losses2))"
   ]
  },
  {
   "cell_type": "code",
   "execution_count": 9,
   "metadata": {
    "scrolled": true
   },
   "outputs": [],
   "source": [
    "# Assign keys\n",
    "high_key = Date[high_index]\n",
    "\n",
    "low_key = Date[low_index]"
   ]
  },
  {
   "cell_type": "code",
   "execution_count": 10,
   "metadata": {},
   "outputs": [],
   "source": [
    "# Create string variable that contains the analysis information\n",
    "analysis = f\"Total number of months: {len(Date)}; Net total amount of profits/losses over entire period: {sum}; Average of the changes in profits/losses over entire period: {mean}; Greatest increase in profits: (Date) {high_key} (Profit) {high}; Greatest decrease in losses: (Date) {low_key} (Loss) {low}\""
   ]
  },
  {
   "cell_type": "code",
   "execution_count": 11,
   "metadata": {},
   "outputs": [],
   "source": [
    "# Output path\n",
    "output_file = os.path.join(\"output.txt\")"
   ]
  },
  {
   "cell_type": "code",
   "execution_count": 13,
   "metadata": {},
   "outputs": [],
   "source": [
    "# Write analysis text file\n",
    "with open(output_file, \"w\") as text:\n",
    "    lines = text.write(analysis)"
   ]
  }
 ],
 "metadata": {
  "kernelspec": {
   "display_name": "Python [conda env:PythonData] *",
   "language": "python",
   "name": "conda-env-PythonData-py"
  },
  "language_info": {
   "codemirror_mode": {
    "name": "ipython",
    "version": 3
   },
   "file_extension": ".py",
   "mimetype": "text/x-python",
   "name": "python",
   "nbconvert_exporter": "python",
   "pygments_lexer": "ipython3",
   "version": "3.6.9"
  }
 },
 "nbformat": 4,
 "nbformat_minor": 2
}
